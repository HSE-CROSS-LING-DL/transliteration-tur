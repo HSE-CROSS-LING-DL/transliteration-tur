{
  "nbformat": 4,
  "nbformat_minor": 0,
  "metadata": {
    "colab": {
      "name": "transliterate tur wiki.ipynb",
      "provenance": [],
      "include_colab_link": true
    },
    "kernelspec": {
      "name": "python3",
      "display_name": "Python 3"
    }
  },
  "cells": [
    {
      "cell_type": "markdown",
      "metadata": {
        "id": "view-in-github",
        "colab_type": "text"
      },
      "source": [
        "<a href=\"https://colab.research.google.com/github/oserikov/transliteration-tur/blob/master/transliterate_tur_wiki.ipynb\" target=\"_parent\"><img src=\"https://colab.research.google.com/assets/colab-badge.svg\" alt=\"Open In Colab\"/></a>"
      ]
    },
    {
      "cell_type": "code",
      "metadata": {
        "id": "gkDAEVc-43CI",
        "colab_type": "code",
        "colab": {}
      },
      "source": [
        "!git clone --quiet  https://github.com/HSE-CROSS-LING-DL/transliteration-tur.git\n",
        "!chmod +x transliteration-tur/text_normalizer.sh"
      ],
      "execution_count": 0,
      "outputs": []
    },
    {
      "cell_type": "markdown",
      "metadata": {
        "id": "AKsVQIbY88dx",
        "colab_type": "text"
      },
      "source": [
        "ссылка на гуглпапку с архивом с вики:\n",
        "https://drive.google.com/drive/folders/12S8mx9W8O1jKk5g81xMsgjEULyRivbsn?usp=sharing\n",
        "\n",
        "добавьте её в свой гуглдиск в корень, чтобы работало (я там ниже делаю `!cp /content/drive/My\\ Drive/DeepNLP\\ Cross-Lingual\\ Morphological\\ Analysis/tur-wikis.zip .`) или переправьте код на правильный для вас."
      ]
    },
    {
      "cell_type": "code",
      "metadata": {
        "id": "gWzRWwxI6Ox1",
        "colab_type": "code",
        "colab": {
          "base_uri": "https://localhost:8080/",
          "height": 122
        },
        "outputId": "4e00830b-777b-46ff-b95e-12044cb3c20b"
      },
      "source": [
        "from google.colab import drive\n",
        "drive.mount('/content/drive')"
      ],
      "execution_count": 3,
      "outputs": [
        {
          "output_type": "stream",
          "text": [
            "Go to this URL in a browser: https://accounts.google.com/o/oauth2/auth?client_id=947318989803-6bn6qk8qdgf4n4g3pfee6491hc0brc4i.apps.googleusercontent.com&redirect_uri=urn%3aietf%3awg%3aoauth%3a2.0%3aoob&response_type=code&scope=email%20https%3a%2f%2fwww.googleapis.com%2fauth%2fdocs.test%20https%3a%2f%2fwww.googleapis.com%2fauth%2fdrive%20https%3a%2f%2fwww.googleapis.com%2fauth%2fdrive.photos.readonly%20https%3a%2f%2fwww.googleapis.com%2fauth%2fpeopleapi.readonly\n",
            "\n",
            "Enter your authorization code:\n",
            "··········\n",
            "Mounted at /content/drive\n"
          ],
          "name": "stdout"
        }
      ]
    },
    {
      "cell_type": "code",
      "metadata": {
        "id": "r-py4Fj26OEH",
        "colab_type": "code",
        "colab": {}
      },
      "source": [
        "!cp /content/drive/My\\ Drive/DeepNLP\\ Cross-Lingual\\ Morphological\\ Analysis/tur-wikis.zip .\n",
        "!unzip -q tur-wikis.zip"
      ],
      "execution_count": 0,
      "outputs": []
    },
    {
      "cell_type": "code",
      "metadata": {
        "id": "x_a2FHPE6wyD",
        "colab_type": "code",
        "colab": {
          "base_uri": "https://localhost:8080/",
          "height": 255
        },
        "outputId": "c696e926-564a-4f94-feff-4669575a4aec"
      },
      "source": [
        "!for fn in $(ls tur-wikis/*.txt); \\\n",
        "     do \\\n",
        "     echo \"$(date) BEFORE processing ${fn}\"; \\\n",
        "     cat $fn \\\n",
        "     | transliteration-tur/text_normalizer.sh \\\n",
        "     > ${fn}_norm; \\\n",
        "     echo \"$(date) AFTER processing ${fn}\"; \\\n",
        "     done;"
      ],
      "execution_count": 5,
      "outputs": [
        {
          "output_type": "stream",
          "text": [
            "Sat Nov 30 01:40:07 UTC 2019 BEFORE processing tur-wikis/bak.txt\n",
            "Sat Nov 30 01:40:22 UTC 2019 AFTER processing tur-wikis/bak.txt\n",
            "Sat Nov 30 01:40:22 UTC 2019 BEFORE processing tur-wikis/crh.txt\n",
            "Sat Nov 30 01:40:22 UTC 2019 AFTER processing tur-wikis/crh.txt\n",
            "Sat Nov 30 01:40:22 UTC 2019 BEFORE processing tur-wikis/kaz.txt\n",
            "Sat Nov 30 01:41:04 UTC 2019 AFTER processing tur-wikis/kaz.txt\n",
            "Sat Nov 30 01:41:04 UTC 2019 BEFORE processing tur-wikis/kir.txt\n",
            "Sat Nov 30 01:41:19 UTC 2019 AFTER processing tur-wikis/kir.txt\n",
            "Sat Nov 30 01:41:19 UTC 2019 BEFORE processing tur-wikis/krc.txt\n",
            "Sat Nov 30 01:41:20 UTC 2019 AFTER processing tur-wikis/krc.txt\n",
            "Sat Nov 30 01:41:20 UTC 2019 BEFORE processing tur-wikis/tat.txt\n",
            "Sat Nov 30 01:41:31 UTC 2019 AFTER processing tur-wikis/tat.txt\n",
            "Sat Nov 30 01:41:31 UTC 2019 BEFORE processing tur-wikis/tur.txt\n",
            "Sat Nov 30 01:42:43 UTC 2019 AFTER processing tur-wikis/tur.txt\n"
          ],
          "name": "stdout"
        }
      ]
    }
  ]
}