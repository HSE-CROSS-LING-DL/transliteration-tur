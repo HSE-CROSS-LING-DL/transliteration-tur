{
  "nbformat": 4,
  "nbformat_minor": 0,
  "metadata": {
    "colab": {
      "name": "vardial.ipynb",
      "version": "0.3.2",
      "provenance": [],
      "collapsed_sections": []
    },
    "kernelspec": {
      "display_name": "Python 3",
      "language": "python",
      "name": "python3"
    },
    "accelerator": "GPU"
  },
  "cells": [
    {
      "metadata": {
        "colab_type": "text",
        "id": "6yPpvWqtFgqG"
      },
      "cell_type": "markdown",
      "source": [
        "## Download varidal files"
      ]
    },
    {
      "metadata": {
        "colab_type": "code",
        "id": "6HftlYTDlaSk",
        "colab": {}
      },
      "cell_type": "code",
      "source": [
        "!wget https://raw.githubusercontent.com/ftyers/vardial-shared-task/master/test/trk-covered"
      ],
      "execution_count": 0,
      "outputs": []
    },
    {
      "metadata": {
        "colab_type": "code",
        "id": "w9sPEAZQlcbl",
        "colab": {}
      },
      "cell_type": "code",
      "source": [
        "!wget https://raw.githubusercontent.com/ftyers/vardial-shared-task/master/train/trk-uncovered"
      ],
      "execution_count": 0,
      "outputs": []
    },
    {
      "metadata": {
        "id": "9j2kAr0SihLv",
        "colab_type": "text"
      },
      "cell_type": "markdown",
      "source": [
        "## Download transliterated files"
      ]
    },
    {
      "metadata": {
        "id": "3D5lZjramOyb",
        "colab_type": "code",
        "colab": {}
      },
      "cell_type": "code",
      "source": [
        "!wget https://raw.githubusercontent.com/NIS-2018-CROSS-M/vardial-shared-task/master/train/trk-uncovered-transliterated"
      ],
      "execution_count": 0,
      "outputs": []
    },
    {
      "metadata": {
        "id": "U9pqDOvXjYTO",
        "colab_type": "code",
        "colab": {}
      },
      "cell_type": "code",
      "source": [
        "!wget https://raw.githubusercontent.com/NIS-2018-CROSS-M/vardial-shared-task/master/test/trk-covered-transliterated"
      ],
      "execution_count": 0,
      "outputs": []
    },
    {
      "metadata": {
        "id": "69IDI1lnnxoD",
        "colab_type": "code",
        "colab": {
          "base_uri": "https://localhost:8080/",
          "height": 476
        },
        "outputId": "e7733127-2b6c-4f70-d99d-503e08297f69"
      },
      "cell_type": "code",
      "source": [
        "!head trk-uncovered"
      ],
      "execution_count": 5,
      "outputs": [
        {
          "output_type": "stream",
          "text": [
            "tat\tказак\tказак\tNOUN\tCase=Nom\n",
            "tur\tmuamele\tmuamele\tNOUN\tCase=Nom\n",
            "tat\tзаманы\tзаман\tNOUN\tCase=Nom|Number[psor]=Sing,Plur|Person[psor]=3\n",
            "tur\tkonut\tkonut\tNOUN\tCase=Nom\n",
            "tur\tkoruması\tkoru\tVERB\tCase=Nom|Number[psor]=Sing,Plur|Person[psor]=3|Valency=2|VerbForm=Vnoun\n",
            "tur\tkoruması\tkoruma\tNOUN\tCase=Nom|Number[psor]=Sing,Plur|Person[psor]=3\n",
            "kaz\tқоңыз\tқоңыз\tNOUN\tCase=Nom\n",
            "kaz\tорналасқандықтан\tорналас\tVERB\tAspect=Perf|Case=Abl|Valency=1|VerbForm=Vnoun\n",
            "kir\tжазуусун\tжаз\tVERB\tCase=Acc|Number[psor]=Sing,Plur|Person[psor]=3|Valency=2|VerbForm=Vnoun\n",
            "kir\tжазуусун\tжазуу\tNOUN\tCase=Acc|Number[psor]=Sing,Plur|Person[psor]=3\n"
          ],
          "name": "stdout"
        }
      ]
    },
    {
      "metadata": {
        "id": "FOBZqVm_n1sl",
        "colab_type": "code",
        "colab": {
          "base_uri": "https://localhost:8080/",
          "height": 516
        },
        "outputId": "3f686524-ee0e-4cb7-f88c-374f806c6aca"
      },
      "cell_type": "code",
      "source": [
        "!head trk-uncovered-transliterated"
      ],
      "execution_count": 6,
      "outputs": [
        {
          "output_type": "stream",
          "text": [
            "tat\tказак\tказак\tNOUN\tCase=Nom\n",
            "tur\tмуамеле\tмуамеле\tNOUN\tCase=Nom\n",
            "tat\tзаманы\tзаман\tNOUN\tCase=Nom|Number[psor]=Sing,Plur|Person[psor]=3\n",
            "tur\tконут\tконут\tNOUN\tCase=Nom\n",
            "tur\tкорумасы\tкору\tVERB\tCase=Nom|Number[psor]=Sing,Plur|Person[psor]=3|Valency=2|VerbForm=Vnoun\n",
            "tur\tкорумасы\tкорума\tNOUN\tCase=Nom|Number[psor]=Sing,Plur|Person[psor]=3\n",
            "kaz\tконыз\tконыз\tNOUN\tCase=Nom\n",
            "kaz\tорналаскандыктан\tорналас\tVERB\tAspect=Perf|Case=Abl|Valency=1|VerbForm=Vnoun\n",
            "kir\tжазуусун\tжаз\tVERB\tCase=Acc|Number[psor]=Sing,Plur|Person[psor]=3|Valency=2|VerbForm=Vnoun\n",
            "kir\tжазуусун\tжазуу\tNOUN\tCase=Acc|Number[psor]=Sing,Plur|Person[psor]=3\n"
          ],
          "name": "stdout"
        }
      ]
    },
    {
      "metadata": {
        "id": "aX1346vbjfO-",
        "colab_type": "code",
        "colab": {
          "base_uri": "https://localhost:8080/",
          "height": 216
        },
        "outputId": "8d6a90d7-cc14-49fe-82a1-9685089648da"
      },
      "cell_type": "code",
      "source": [
        "!head trk-covered"
      ],
      "execution_count": 7,
      "outputs": [
        {
          "output_type": "stream",
          "text": [
            "krc\tджыл\t_\t_\t_\n",
            "krc\tэм\t_\t_\t_\n",
            "krc\tджылны\t_\t_\t_\n",
            "krc\tболгъанды\t_\t_\t_\n",
            "krc\tдери\t_\t_\t_\n",
            "krc\tкёре\t_\t_\t_\n",
            "krc\tсора\t_\t_\t_\n",
            "krc\tуллу\t_\t_\t_\n",
            "krc\tболады\t_\t_\t_\n",
            "krc\tджылда\t_\t_\t_\n"
          ],
          "name": "stdout"
        }
      ]
    },
    {
      "metadata": {
        "id": "kCbvJdQ0jmZb",
        "colab_type": "code",
        "colab": {
          "base_uri": "https://localhost:8080/",
          "height": 216
        },
        "outputId": "38743cf0-7b8d-479d-dd65-773789d479e9"
      },
      "cell_type": "code",
      "source": [
        "!head trk-covered-transliterated"
      ],
      "execution_count": 8,
      "outputs": [
        {
          "output_type": "stream",
          "text": [
            "krc\tджыл\t_\t_\t_\n",
            "krc\tэм\t_\t_\t_\n",
            "krc\tджылны\t_\t_\t_\n",
            "krc\tболганды\t_\t_\t_\n",
            "krc\tдери\t_\t_\t_\n",
            "krc\tкёре\t_\t_\t_\n",
            "krc\tсора\t_\t_\t_\n",
            "krc\tуллу\t_\t_\t_\n",
            "krc\tболады\t_\t_\t_\n",
            "krc\tджылда\t_\t_\t_\n"
          ],
          "name": "stdout"
        }
      ]
    },
    {
      "metadata": {
        "colab_type": "text",
        "id": "Cw4eOk9dDnzD"
      },
      "cell_type": "markdown",
      "source": [
        "## Prepare train and test files for morfessor within 5 folds"
      ]
    },
    {
      "metadata": {
        "id": "MmELGn8A1ELG",
        "colab_type": "code",
        "colab": {
          "base_uri": "https://localhost:8080/",
          "height": 216
        },
        "outputId": "740766a7-e894-4c6e-c593-43c3cdd323b5"
      },
      "cell_type": "code",
      "source": [
        "# wordforms extraction, rename the file for convenience\n",
        "!cut -f2 trk-covered-transliterated > trk-cov\n",
        "!head trk-cov"
      ],
      "execution_count": 9,
      "outputs": [
        {
          "output_type": "stream",
          "text": [
            "джыл\n",
            "эм\n",
            "джылны\n",
            "болганды\n",
            "дери\n",
            "кёре\n",
            "сора\n",
            "уллу\n",
            "болады\n",
            "джылда\n"
          ],
          "name": "stdout"
        }
      ]
    },
    {
      "metadata": {
        "colab_type": "text",
        "id": "YsLQSMfZDu5p"
      },
      "cell_type": "markdown",
      "source": [
        "### fold 1\n",
        "#### train = head 0.8n; test = tail 0.2n"
      ]
    },
    {
      "metadata": {
        "colab_type": "code",
        "id": "_TpKKcN8BF3d",
        "colab": {}
      },
      "cell_type": "code",
      "source": [
        "# train\n",
        "!head -$(cat trk-cov | python -c 'import sys; print(round(len([line.strip() for line \\\n",
        "in sys.stdin]) * 0.8))') trk-cov > train1.txt\n",
        "!wc -l train1.txt\n",
        "# test\n",
        "!tail -$(cat trk-cov | python -c 'import sys; print(round(len([line.strip() for line \\\n",
        "in sys.stdin]) * 0.2))') trk-cov > test1.txt\n",
        "!wc -l test1.txt\n",
        "# morfessor\n",
        "!morfessor -t train1.txt -T test1.txt > krc_segmented.txt\n",
        "!wc -l krc_segmented.txt"
      ],
      "execution_count": 0,
      "outputs": []
    },
    {
      "metadata": {
        "id": "H1fD2Xv11ELV",
        "colab_type": "text"
      },
      "cell_type": "markdown",
      "source": [
        "### fold 2\n",
        "#### train = head 0.75n train1 + test1; test = tail 0.25n train1"
      ]
    },
    {
      "metadata": {
        "id": "VyPXAlc31ELX",
        "colab_type": "code",
        "colab": {}
      },
      "cell_type": "code",
      "source": [
        "# train\n",
        "!head -$(cat train1.txt | python -c 'import sys; print(round(len([line.strip() for line \\\n",
        "in sys.stdin]) * 0.75))') train1.txt >> train2.txt && cat test1.txt >> train2.txt\n",
        "!wc -l train2.txt\n",
        "# test\n",
        "!tail -$(cat train1.txt | python -c 'import sys; print(round(len([line.strip() for line \\\n",
        "in sys.stdin]) * 0.25))') train1.txt > test2.txt\n",
        "!wc -l test2.txt\n",
        "# morfessor\n",
        "!morfessor -t train1.txt -T test1.txt >> krc_segmented.txt\n",
        "!wc -l krc_segmented.txt"
      ],
      "execution_count": 0,
      "outputs": []
    },
    {
      "metadata": {
        "id": "JgV6DO3j1ELc",
        "colab_type": "text"
      },
      "cell_type": "markdown",
      "source": [
        "### fold 3\n",
        "#### train = head 0.5n train1 + test1 + test2; test = tail 0.3n train1"
      ]
    },
    {
      "metadata": {
        "id": "kOEAieEo1ELe",
        "colab_type": "code",
        "colab": {}
      },
      "cell_type": "code",
      "source": [
        "# train\n",
        "!head -$(cat train1.txt | python -c 'import sys; print(round(len([line.strip() for line \\\n",
        "in sys.stdin]) * 0.5 - 1))') train1.txt >> train3.txt && cat test1.txt >> train3.txt && cat test2.txt >> train3.txt\n",
        "!wc -l train3.txt\n",
        "# test\n",
        "!head -$(cat train1.txt | python -c 'import sys; print(round(len([line.strip() for line \\\n",
        "in sys.stdin]) * 0.75))') train1.txt | tail -$(wc -l test1.txt | cut -f1 -d' ') > test3.txt\n",
        "!wc -l test3.txt\n",
        "# morfessor\n",
        "!morfessor -t train3.txt -T test3.txt >> krc_segmented.txt\n",
        "!wc -l krc_segmented.txt"
      ],
      "execution_count": 0,
      "outputs": []
    },
    {
      "metadata": {
        "id": "Hwt7R3w81ELk",
        "colab_type": "text"
      },
      "cell_type": "markdown",
      "source": [
        "### fold 4\n",
        "#### train =  tail 0.8n; test = head 0.2n"
      ]
    },
    {
      "metadata": {
        "id": "EHX1INyQ1ELm",
        "colab_type": "code",
        "colab": {}
      },
      "cell_type": "code",
      "source": [
        "# train\n",
        "!tail -$(cat trk-cov | python -c 'import sys; print(round(len([line.strip() for line \\\n",
        "in sys.stdin]) * 0.8))') trk-cov > train4.txt\n",
        "!wc -l train4.txt\n",
        "# test\n",
        "!head -$(cat trk-cov | python -c 'import sys; print(round(len([line.strip() for line \\\n",
        "in sys.stdin]) * 0.2))') trk-cov > test4.txt\n",
        "!wc -l test4.txt\n",
        "# morfessor\n",
        "!morfessor -t train4.txt -T test4.txt >> krc_segmented.txt\n",
        "!wc -l krc_segmented.txt"
      ],
      "execution_count": 0,
      "outputs": []
    },
    {
      "metadata": {
        "id": "YBTT1n3Y1ELr",
        "colab_type": "text"
      },
      "cell_type": "markdown",
      "source": [
        "### fold 5\n",
        "#### train = tail 0.75n train4 + test4; test = head train4"
      ]
    },
    {
      "metadata": {
        "id": "PD-g--fg1ELt",
        "colab_type": "code",
        "colab": {}
      },
      "cell_type": "code",
      "source": [
        "# train\n",
        "!tail -$(cat train4.txt | python -c 'import sys; print(round(len([line.strip() for line \\\n",
        "in sys.stdin]) * 0.75))') train4.txt >> train5.txt && cat test4.txt >> train5.txt\n",
        "!wc -l train5.txt\n",
        "# test\n",
        "!head -$(cat train4.txt | python -c 'import sys; print(round(len([line.strip() for line \\\n",
        "in sys.stdin]) * 0.25))') train4.txt > test5.txt\n",
        "!wc -l test5.txt\n",
        "# morfessor\n",
        "!morfessor -t train5.txt -T test5.txt >> krc_segmented.txt"
      ],
      "execution_count": 0,
      "outputs": []
    },
    {
      "metadata": {
        "id": "Fe_3D1F-3qoc",
        "colab_type": "text"
      },
      "cell_type": "markdown",
      "source": [
        "### Download morfessor segmentation file if needed"
      ]
    },
    {
      "metadata": {
        "colab_type": "code",
        "id": "yHUP2mPcspEQ",
        "colab": {}
      },
      "cell_type": "code",
      "source": [
        "# UPLOAD ON GITHUB\n",
        "!wget https://www.dropbox.com/s/wu4ojsj18il5bcf/krc_segmented.txt"
      ],
      "execution_count": 0,
      "outputs": []
    },
    {
      "metadata": {
        "id": "KJ2i6P3W6D1S",
        "colab_type": "code",
        "outputId": "549ee72b-a3d6-46b9-9a23-dd9effaccf24",
        "colab": {
          "base_uri": "https://localhost:8080/",
          "height": 63
        }
      },
      "cell_type": "code",
      "source": [
        "!wc -l krc_segmented.txt"
      ],
      "execution_count": 16,
      "outputs": [
        {
          "output_type": "stream",
          "text": [
            "9900 krc_segmented.txt\n"
          ],
          "name": "stdout"
        }
      ]
    },
    {
      "metadata": {
        "id": "VDIRrupM2BZc",
        "colab_type": "code",
        "outputId": "8d7ffc5b-0f44-4373-edfa-d08fc4884521",
        "colab": {
          "base_uri": "https://localhost:8080/",
          "height": 216
        }
      },
      "cell_type": "code",
      "source": [
        "!head krc_segmented.txt"
      ],
      "execution_count": 17,
      "outputs": [
        {
          "output_type": "stream",
          "text": [
            "обур ланы\n",
            "област ына\n",
            "област ланы\n",
            "о аз и с ле\n",
            "нюзюр леринде\n",
            "нюзюр лери\n",
            "нохта гъа\n",
            "норма ланы\n",
            "норма гъа\n",
            "номер инден\n"
          ],
          "name": "stdout"
        }
      ]
    },
    {
      "metadata": {
        "id": "9amb2axo7QX7",
        "colab_type": "text"
      },
      "cell_type": "markdown",
      "source": [
        "# Tag projection"
      ]
    },
    {
      "metadata": {
        "id": "h9_3PxZT7dup",
        "colab_type": "text"
      },
      "cell_type": "markdown",
      "source": [
        "## trk and krc intersection"
      ]
    },
    {
      "metadata": {
        "id": "bb0-a8D97oT2",
        "colab_type": "text"
      },
      "cell_type": "markdown",
      "source": [
        "###  Creating trk dictionary; key:value  == wordform:[lemma, pos, analysis]"
      ]
    },
    {
      "metadata": {
        "colab_type": "code",
        "id": "a1CWRMMJl2aW",
        "outputId": "f8fef91d-b375-489a-a6f7-b2600bf685c0",
        "colab": {
          "base_uri": "https://localhost:8080/",
          "height": 91
        }
      },
      "cell_type": "code",
      "source": [
        "from collections import defaultdict as dd\n",
        "\n",
        "\n",
        "# trk dictionary with only one analysis given\n",
        "trk_keys = [line.strip().split('\\t')[1] for line in open('trk-uncovered-transliterated', 'r', encoding='utf-8') if line]\n",
        "trk_values = [line.strip().split('\\t')[2:] for line in open('trk-uncovered-transliterated', 'r', encoding='utf-8') if line]\n",
        "trk = dict(zip(trk_keys, trk_values))\n",
        "\n",
        "# trk dictionary with all the analyses given\n",
        "trk_intersection = dd(set)\n",
        "for line in open('trk-uncovered-transliterated', 'r'):\n",
        "  iso, wf, lem, pos, analysis = line.rstrip().split('\\t')\n",
        "  trk_intersection[wf].add((lem, pos, analysis))\n",
        "\n",
        "print('trk:', list(trk.items())[:5])\n",
        "print('trk_intersection:', list(trk_intersection.items())[:5])"
      ],
      "execution_count": 10,
      "outputs": [
        {
          "output_type": "stream",
          "text": [
            "trk: [('казак', ['казак', 'NOUN', 'Case=Nom']), ('муамеле', ['муамеле', 'NOUN', 'Case=Nom']), ('заманы', ['заман', 'NOUN', 'Case=Nom|Number[psor]=Sing,Plur|Person[psor]=3']), ('конут', ['конут', 'NOUN', 'Case=Nom']), ('корумасы', ['корума', 'NOUN', 'Case=Nom|Number[psor]=Sing,Plur|Person[psor]=3'])]\n",
            "trk_intersection: [('казак', {('казак', 'NOUN', 'Case=Nom'), ('казак', 'ADJ', '_')}), ('муамеле', {('муамеле', 'NOUN', 'Case=Nom')}), ('заманы', {('заман', 'NOUN', 'Case=Acc'), ('заман', 'NOUN', 'Case=Nom|Number[psor]=Sing,Plur|Person[psor]=3')}), ('конут', {('конут', 'NOUN', 'Case=Nom')}), ('корумасы', {('кору', 'VERB', 'Case=Nom|Number[psor]=Sing,Plur|Person[psor]=3|Valency=2|VerbForm=Vnoun'), ('корума', 'NOUN', 'Case=Nom|Number[psor]=Sing,Plur|Person[psor]=3')})]\n"
          ],
          "name": "stdout"
        }
      ]
    },
    {
      "metadata": {
        "id": "ZcRbN_LC7UZM",
        "colab_type": "text"
      },
      "cell_type": "markdown",
      "source": [
        "### Creating krc dictionary; wf_trk[i] tags are projected on wf_krc[i] within the intersection"
      ]
    },
    {
      "metadata": {
        "colab_type": "code",
        "id": "QBn93CdkO1CH",
        "outputId": "9570fe39-22e2-494d-ecd9-77cd6156e9dc",
        "colab": {
          "base_uri": "https://localhost:8080/",
          "height": 51
        }
      },
      "cell_type": "code",
      "source": [
        "krc_words = [line.strip().split('\\t')[1] for line in open('trk-covered-transliterated', 'r', encoding='utf-8')]\n",
        "krc = {wordform: trk_intersection[wordform] for wordform in krc_words if wordform in trk_intersection.keys()}\n",
        "print('Number of words in the intersection: {}'.format(len(krc.keys())))\n",
        "print('Examples: {}'.format(list(krc.items())[:2]))"
      ],
      "execution_count": 13,
      "outputs": [
        {
          "output_type": "stream",
          "text": [
            "Number of words in the intersection: 1763\n",
            "Examples: [('крал', {('крал', 'NOUN', 'Case=Nom')}), ('алай', {('алай', 'NOUN', 'Case=Nom')})]\n"
          ],
          "name": "stdout"
        }
      ]
    },
    {
      "metadata": {
        "id": "8eIC5QQWK4Ac",
        "colab_type": "text"
      },
      "cell_type": "markdown",
      "source": [
        "## Reading segmented test wordforms"
      ]
    },
    {
      "metadata": {
        "colab_type": "code",
        "id": "Y4SnOHmnsBFX",
        "colab": {
          "base_uri": "https://localhost:8080/",
          "height": 34
        },
        "outputId": "386f71a7-ec7c-4ea6-823d-5752a5035cad"
      },
      "cell_type": "code",
      "source": [
        "morfessor = [line.strip() for line in open('krc_segmented.txt', 'r', encoding='utf-8')]\n",
        "morfessor[:5]"
      ],
      "execution_count": 18,
      "outputs": [
        {
          "output_type": "execute_result",
          "data": {
            "text/plain": [
              "['обур ланы', 'област ына', 'област ланы', 'о аз и с ле', 'нюзюр леринде']"
            ]
          },
          "metadata": {
            "tags": []
          },
          "execution_count": 18
        }
      ]
    },
    {
      "metadata": {
        "id": "KBxNRqMFLP8t",
        "colab_type": "text"
      },
      "cell_type": "markdown",
      "source": [
        "###  Create a list of morfessor lemmas\n",
        "We consider the substring of index 0 as a morfessor lemma, e.g. in \"музыка да\" the lem_morf is \"музыка\""
      ]
    },
    {
      "metadata": {
        "id": "9302RIFmMMhq",
        "colab_type": "code",
        "colab": {
          "base_uri": "https://localhost:8080/",
          "height": 34
        },
        "outputId": "b7cda584-e209-4f42-de5b-06ea2ad092a8"
      },
      "cell_type": "code",
      "source": [
        "morfessor_lemmas = [wordform.split()[0] for wordform in morfessor]\n",
        "morfessor_lemmas[:5]"
      ],
      "execution_count": 25,
      "outputs": [
        {
          "output_type": "execute_result",
          "data": {
            "text/plain": [
              "['обур', 'област', 'област', 'о', 'нюзюр']"
            ]
          },
          "metadata": {
            "tags": []
          },
          "execution_count": 25
        }
      ]
    },
    {
      "metadata": {
        "id": "D_CIl6-sJ0hB",
        "colab_type": "text"
      },
      "cell_type": "markdown",
      "source": [
        "## NOUN cluster\n",
        "\n",
        "We consider the krc wordforms to be in one noun cluster if wf_krc[i] == lem_trk[i] and w_trk[i] POS is NOUN "
      ]
    },
    {
      "metadata": {
        "colab_type": "code",
        "id": "pR7hmFr6nDZo",
        "outputId": "a1b185b0-183d-4190-ef98-ba1ea8083595",
        "colab": {
          "base_uri": "https://localhost:8080/",
          "height": 51
        }
      },
      "cell_type": "code",
      "source": [
        "krc_noun_lemmas = [wf for wf in krc.keys() if wf == trk[wf][0] and trk[wf][1] == 'NOUN']\n",
        "print('Number of krc noun lemmas: {}'.format(len(krc_noun_lemmas)))\n",
        "print('Examples: {}'.format(list(krc_noun_lemmas[:5])))"
      ],
      "execution_count": 26,
      "outputs": [
        {
          "output_type": "stream",
          "text": [
            "Number of krc noun lemmas: 912\n",
            "Examples: ['крал', 'алай', 'баш', 'адам', 'аскер']\n"
          ],
          "name": "stdout"
        }
      ]
    },
    {
      "metadata": {
        "id": "Sk_1mHViOU4E",
        "colab_type": "text"
      },
      "cell_type": "markdown",
      "source": [
        "### Finding the intersection of krc noun lemmas and morfessor lemmas\n"
      ]
    },
    {
      "metadata": {
        "colab_type": "code",
        "id": "rFkPWE4-kT6Q",
        "outputId": "faf1c20a-5813-49be-af5b-7ed63538c56a",
        "colab": {
          "base_uri": "https://localhost:8080/",
          "height": 51
        }
      },
      "cell_type": "code",
      "source": [
        "lemma_noun_intersection = set(krc_noun_lemmas) & set(morfessor_lemmas)\n",
        "print('Number of noun lemmas in the intersection: {}'.format(len(lemma_noun_intersection)))\n",
        "print('Examples: {}'.format(list(lemma_noun_intersection)[:5]))"
      ],
      "execution_count": 30,
      "outputs": [
        {
          "output_type": "stream",
          "text": [
            "Number of noun lemmas in the intersection: 445\n",
            "Examples: ['швед', 'басым', 'адам', 'химия', 'регион']\n"
          ],
          "name": "stdout"
        }
      ]
    },
    {
      "metadata": {
        "id": "5rhtqASQ0Cq2",
        "colab_type": "text"
      },
      "cell_type": "markdown",
      "source": [
        "### If we can find morfessor lemma in lemma_noun_intersection, we keep the segmented wordform in noun_segmented"
      ]
    },
    {
      "metadata": {
        "colab_type": "code",
        "id": "5Bm50a5omYL2",
        "outputId": "4a402655-35b7-4649-d6e4-b32733699686",
        "colab": {
          "base_uri": "https://localhost:8080/",
          "height": 51
        }
      },
      "cell_type": "code",
      "source": [
        "noun_segmented = [segmented for segmented in morfessor for lemma in lemma_noun_intersection \\\n",
        "                if lemma == segmented.split()[0]]\n",
        "\n",
        "print('Number of words in the cluster: {}'.format(len(noun_segmented)))\n",
        "print('Examples: {}'.format(list(noun_segmented[:5])))"
      ],
      "execution_count": 32,
      "outputs": [
        {
          "output_type": "stream",
          "text": [
            "Number of words in the cluster: 2834\n",
            "Examples: ['норма ланы', 'норма гъа', 'низам лары', 'низам ланы', 'низам ла']\n"
          ],
          "name": "stdout"
        }
      ]
    },
    {
      "metadata": {
        "id": "FYxsX4Hr-X3q",
        "colab_type": "text"
      },
      "cell_type": "markdown",
      "source": [
        "### If morfessor wordform == train wordform and if morfessor lemma == train lemma, we project tags from the train file onto the morfessor wordform"
      ]
    },
    {
      "metadata": {
        "colab_type": "code",
        "id": "zt_Ydvr9zb3s",
        "outputId": "1471987b-8d59-4fdb-ef26-1fc2c5be7649",
        "colab": {
          "base_uri": "https://localhost:8080/",
          "height": 102
        }
      },
      "cell_type": "code",
      "source": [
        "noun_projections = [(segmented, trk[wordform]) for segmented in noun_segmented for wordform in \\\n",
        "              trk.keys() if ''.join(segmented.split()) == wordform and segmented.split()[0] \\\n",
        "              == trk[wordform][0] and trk[wordform][1] == 'NOUN']\n",
        "noun_projections[:5]"
      ],
      "execution_count": 36,
      "outputs": [
        {
          "output_type": "execute_result",
          "data": {
            "text/plain": [
              "[('музыка да', ['музыка', 'NOUN', 'Case=Loc']),\n",
              " ('миф', ['миф', 'NOUN', 'Case=Nom']),\n",
              " ('миссия', ['миссия', 'NOUN', 'Case=Nom']),\n",
              " ('министр', ['министр', 'NOUN', 'Case=Nom']),\n",
              " ('мермер', ['мермер', 'NOUN', 'Case=Nom'])]"
            ]
          },
          "metadata": {
            "tags": []
          },
          "execution_count": 36
        }
      ]
    },
    {
      "metadata": {
        "colab_type": "code",
        "id": "6QEQ_EEJfoaW",
        "outputId": "128a24c1-bf7f-40f0-914d-23afb9399f4d",
        "colab": {
          "base_uri": "https://localhost:8080/",
          "height": 34
        }
      },
      "cell_type": "code",
      "source": [
        "'''создаем карту тегов на материале существительных из 20% слов krc_words\n",
        "при условии, что analysis != Case=Nom и морфема встречается 2 и более раза. остальные\n",
        "либо спорные и нужно смотреть на следующих фолдах, либо склеенные, как сында'''\n",
        "\n",
        "noun_morphemes = [projection[0].split()[1] for projection in noun_projections if \\\n",
        "                  ''.join(projection[0].split()) != projection[1][0]]\n",
        "noun_m_freq = {morpheme: noun_morphemes.count(morpheme) for morpheme in noun_morphemes}\n",
        "list(noun_m_freq.items())[:5]"
      ],
      "execution_count": 34,
      "outputs": [
        {
          "output_type": "execute_result",
          "data": {
            "text/plain": [
              "[('да', 25), ('ы', 28), ('лары', 30), ('сы', 41), ('ун', 3)]"
            ]
          },
          "metadata": {
            "tags": []
          },
          "execution_count": 34
        }
      ]
    },
    {
      "metadata": {
        "id": "cyGJjyARd1K6",
        "colab_type": "code",
        "outputId": "0383b523-04a2-424d-ed4b-837c6b6dc40c",
        "colab": {
          "base_uri": "https://localhost:8080/",
          "height": 119
        }
      },
      "cell_type": "code",
      "source": [
        "noun_morphs = {projection[0].split()[1]: projection[1][2] for projection in noun_projections if projection[1][1] \\\n",
        "         == 'NOUN' and ''.join(projection[0].split()) != projection[1][0]}\n",
        "\n",
        "morphemes_2_tagsets = {key: set(value.split('|')) for key, value in noun_morphs.items()}\n",
        "\n",
        "inflected_morphemes_2_possible_tagsets = {}\n",
        "\n",
        "for morpheme1 in morphemes_2_tagsets.keys():\n",
        "    for morpheme2 in morphemes_2_tagsets.keys():\n",
        "\n",
        "        if morpheme1 == morpheme2 or not morpheme2.endswith(morpheme1):\n",
        "            continue\n",
        "\n",
        "        morpheme1_in_morpheme2_idx = morpheme2.find(morpheme1)\n",
        "        new_morpheme = morpheme2[:morpheme1_in_morpheme2_idx]\n",
        "\n",
        "        if len(new_morpheme) > 1:\n",
        "            new_morpheme_tagset = morphemes_2_tagsets[morpheme2] - morphemes_2_tagsets[morpheme1]\n",
        "\n",
        "            if new_morpheme not in inflected_morphemes_2_possible_tagsets.keys():\n",
        "                inflected_morphemes_2_possible_tagsets[new_morpheme] = []\n",
        "            inflected_morphemes_2_possible_tagsets[new_morpheme].append(new_morpheme_tagset)\n",
        "\n",
        "\n",
        "result_morphemes_2_possible_tagsets = {key: [value] for key, value in morphemes_2_tagsets.items()}\n",
        "for morpheme, possible_tagsets in inflected_morphemes_2_possible_tagsets.items():\n",
        "    for possible_tagset in possible_tagsets:\n",
        "\n",
        "        if morpheme not in result_morphemes_2_possible_tagsets.keys():\n",
        "            result_morphemes_2_possible_tagsets[morpheme] = [possible_tagset]\n",
        "\n",
        "        known_tagsets_of_morpheme = result_morphemes_2_possible_tagsets[morpheme]\n",
        "\n",
        "        if not all(tag in known_tagset for tag in possible_tagset for known_tagset in known_tagsets_of_morpheme):\n",
        "            result_morphemes_2_possible_tagsets[morpheme].append(possible_tagset)\n",
        "\n",
        "for morpheme, tagsets in result_morphemes_2_possible_tagsets.items():\n",
        "    if len(tagsets) > 1:\n",
        "      if len(tagsets) > 1:\n",
        "        if morpheme == 'ын':\n",
        "          del tagsets[0] \n",
        "        else:\n",
        "          del tagsets[1]\n",
        "          \n",
        "noun_segment = {morpheme: known_tagsets[0]\n",
        "                              for morpheme, known_tagsets in result_morphemes_2_possible_tagsets.items()}\n",
        "list(noun_segment.items())[:5]"
      ],
      "execution_count": 35,
      "outputs": [
        {
          "output_type": "execute_result",
          "data": {
            "text/plain": [
              "[('да', {'Case=Loc'}),\n",
              " ('ы', {'Case=Nom', 'Number[psor]=Sing,Plur', 'Person[psor]=3'}),\n",
              " ('лары',\n",
              "  {'Case=Nom', 'Number=Plur', 'Number[psor]=Sing,Plur', 'Person[psor]=3'}),\n",
              " ('сы', {'Case=Nom', 'Number[psor]=Sing,Plur', 'Person[psor]=3'}),\n",
              " ('ун', {'Case=Acc', 'Number[psor]=Sing,Plur', 'Person[psor]=3'})]"
            ]
          },
          "metadata": {
            "tags": []
          },
          "execution_count": 35
        }
      ]
    },
    {
      "metadata": {
        "id": "sRK8Dje0M0WW",
        "colab_type": "text"
      },
      "cell_type": "markdown",
      "source": [
        "## VERB cluster\n",
        "\n",
        "We consider the krc wordforms to be in one noun cluster if wf_krc[i] == lem_trk[i] and w_trk[i] POS is VERB"
      ]
    },
    {
      "metadata": {
        "id": "0vpJKAagMzbm",
        "colab_type": "code",
        "outputId": "0056993b-6c95-4320-ccba-d9a71231c98f",
        "colab": {
          "base_uri": "https://localhost:8080/",
          "height": 32
        }
      },
      "cell_type": "code",
      "source": [
        "krc_verb_lemmas = [wf for wf in krc.keys() if wf == trk[wf][0] and trk[wf][1] == 'VERB']\n",
        "len(krc_verb_lemmas)"
      ],
      "execution_count": 0,
      "outputs": [
        {
          "output_type": "execute_result",
          "data": {
            "text/plain": [
              "39"
            ]
          },
          "metadata": {
            "tags": []
          },
          "execution_count": 24
        }
      ]
    },
    {
      "metadata": {
        "id": "qdrA2S5gS50e",
        "colab_type": "code",
        "outputId": "9f41bf34-5d92-4b43-fd27-e58ad8435bef",
        "colab": {
          "base_uri": "https://localhost:8080/",
          "height": 32
        }
      },
      "cell_type": "code",
      "source": [
        "lemma_verb_intersection = set(krc_verb_lemmas) & set(morf_lemmas)\n",
        "len(lemma_verb_intersection)"
      ],
      "execution_count": 0,
      "outputs": [
        {
          "output_type": "execute_result",
          "data": {
            "text/plain": [
              "32"
            ]
          },
          "metadata": {
            "tags": []
          },
          "execution_count": 25
        }
      ]
    },
    {
      "metadata": {
        "id": "Xc2wPKMEUKIB",
        "colab_type": "code",
        "outputId": "97de8dfa-3dc4-4773-eeed-285469d51152",
        "colab": {
          "base_uri": "https://localhost:8080/",
          "height": 32
        }
      },
      "cell_type": "code",
      "source": [
        "verb_segment = [segmented for segmented in morfessor for lemma in lemma_verb_intersection \\\n",
        "                if lemma == segmented.split()[0]]\n",
        "verb_segment[:5]"
      ],
      "execution_count": 0,
      "outputs": [
        {
          "output_type": "execute_result",
          "data": {
            "text/plain": [
              "['кыз лары', 'кыз га', 'кул лугу ндан', 'кул лугу н', 'кул ак лары']"
            ]
          },
          "metadata": {
            "tags": []
          },
          "execution_count": 26
        }
      ]
    },
    {
      "metadata": {
        "id": "yU6WS2mBVopw",
        "colab_type": "code",
        "outputId": "75c0b228-adb3-48ad-dd89-1fe70f844680",
        "colab": {
          "base_uri": "https://localhost:8080/",
          "height": 197
        }
      },
      "cell_type": "code",
      "source": [
        "verb_projections = [(segmented, trk[wordform]) for segmented in verb_segment for wordform in \\\n",
        "              trk.keys() if ''.join(segmented.split()) == wordform and segmented.split()[0] \\\n",
        "              == trk[wordform][0] and trk[wordform][1] == 'VERB']\n",
        "verb_projections[:5]"
      ],
      "execution_count": 0,
      "outputs": [
        {
          "output_type": "execute_result",
          "data": {
            "text/plain": [
              "[('кара р',\n",
              "  ['кара', 'VERB', 'Number=Sing|Person=3|Tense=Aor|Valency=1|VerbForm=Fin']),\n",
              " ('кара п', ['кара', 'VERB', 'Aspect=Perf|Valency=1|VerbForm=Conv']),\n",
              " ('кир',\n",
              "  ['кир', 'VERB', 'Mood=Imp|Number=Sing|Person=2|Valency=1|VerbForm=Fin']),\n",
              " ('де с ек',\n",
              "  ['де', 'VERB', 'Mood=Cond|Number=Plur|Person=1|Valency=2|VerbForm=Conv']),\n",
              " ('ат ылган',\n",
              "  ['ат',\n",
              "   'VERB',\n",
              "   'Number=Sing|Person=3|Tense=Past|Valency=2|VerbForm=Fin|Voice=Pass'])]"
            ]
          },
          "metadata": {
            "tags": []
          },
          "execution_count": 27
        }
      ]
    },
    {
      "metadata": {
        "id": "I9Bbu4hXebJY",
        "colab_type": "code",
        "outputId": "223b4635-bb6c-4dda-d810-6990eb9ab04e",
        "colab": {
          "base_uri": "https://localhost:8080/",
          "height": 32
        }
      },
      "cell_type": "code",
      "source": [
        "verb_morphemes = [''.join(projection[0].split()[1:]) for projection in verb_projections if ''.join(projection[0].split()) != projection[1][0]]\n",
        "verb_m_freq = {morpheme: verb_morphemes.count(morpheme) for morpheme in verb_morphemes}\n",
        "list(verb_m_freq.items())[:5]"
      ],
      "execution_count": 0,
      "outputs": [
        {
          "output_type": "execute_result",
          "data": {
            "text/plain": [
              "[('р', 2), ('п', 3), ('сек', 2), ('ылган', 2), ('ип', 1)]"
            ]
          },
          "metadata": {
            "tags": []
          },
          "execution_count": 28
        }
      ]
    },
    {
      "metadata": {
        "id": "4DN-qm1d-ub6",
        "colab_type": "code",
        "outputId": "fcda4977-23a9-4b9f-ce73-9d3e6d690817",
        "colab": {
          "base_uri": "https://localhost:8080/",
          "height": 214
        }
      },
      "cell_type": "code",
      "source": [
        "verb_morphs = {projection[0].split()[1]: projection[1][2] for projection in verb_projections if projection[1][1] \\\n",
        "         == 'VERB' and ''.join(projection[0].split()) != projection[1][0]}\n",
        "\n",
        "morphemes_2_tagsets = {key: set(value.split('|')) for key, value in verb_morphs.items()}\n",
        "\n",
        "inflected_morphemes_2_possible_tagsets = {}\n",
        "\n",
        "for morpheme1 in morphemes_2_tagsets.keys():\n",
        "    for morpheme2 in morphemes_2_tagsets.keys():\n",
        "\n",
        "        if morpheme1 == morpheme2 or not morpheme2.endswith(morpheme1):\n",
        "            continue\n",
        "\n",
        "        morpheme1_in_morpheme2_idx = morpheme2.find(morpheme1)\n",
        "        new_morpheme = morpheme2[:morpheme1_in_morpheme2_idx]\n",
        "\n",
        "        if len(new_morpheme) > 1:\n",
        "            new_morpheme_tagset = morphemes_2_tagsets[morpheme2] - morphemes_2_tagsets[morpheme1]\n",
        "\n",
        "            if new_morpheme not in inflected_morphemes_2_possible_tagsets.keys():\n",
        "                inflected_morphemes_2_possible_tagsets[new_morpheme] = []\n",
        "            inflected_morphemes_2_possible_tagsets[new_morpheme].append(new_morpheme_tagset)\n",
        "\n",
        "\n",
        "result_morphemes_2_possible_tagsets = {key: [value] for key, value in morphemes_2_tagsets.items()}\n",
        "for morpheme, possible_tagsets in inflected_morphemes_2_possible_tagsets.items():\n",
        "    for possible_tagset in possible_tagsets:\n",
        "\n",
        "        if morpheme not in result_morphemes_2_possible_tagsets.keys():\n",
        "            result_morphemes_2_possible_tagsets[morpheme] = [possible_tagset]\n",
        "\n",
        "        known_tagsets_of_morpheme = result_morphemes_2_possible_tagsets[morpheme]\n",
        "\n",
        "        if not all(tag in known_tagset for tag in possible_tagset for known_tagset in known_tagsets_of_morpheme):\n",
        "            result_morphemes_2_possible_tagsets[morpheme].append(possible_tagset)\n",
        "\n",
        "for morpheme, tagsets in result_morphemes_2_possible_tagsets.items():\n",
        "    if len(tagsets) > 1:\n",
        "        print(f\"error! morpheme {morpheme} relates to more than one possible tags string\")\n",
        "\n",
        "verb_segment = {morpheme: known_tagsets[0]\n",
        "                              for morpheme, known_tagsets in result_morphemes_2_possible_tagsets.items()}\n",
        "\n",
        "list(verb_segment.items())[:5]"
      ],
      "execution_count": 0,
      "outputs": [
        {
          "output_type": "execute_result",
          "data": {
            "text/plain": [
              "[('р', {'Number=Sing', 'Person=3', 'Tense=Aor', 'Valency=1', 'VerbForm=Fin'}),\n",
              " ('п', {'Aspect=Perf', 'Valency=2', 'VerbForm=Conv'}),\n",
              " ('с', {'Mood=Cond', 'Number=Plur', 'Person=1', 'Valency=2', 'VerbForm=Conv'}),\n",
              " ('ылган',\n",
              "  {'Number=Sing',\n",
              "   'Person=3',\n",
              "   'Tense=Past',\n",
              "   'Valency=2',\n",
              "   'VerbForm=Fin',\n",
              "   'Voice=Pass'}),\n",
              " ('се',\n",
              "  {'Mood=Cond', 'Number=Plur', 'Person=3', 'Valency=1', 'VerbForm=Conv'})]"
            ]
          },
          "metadata": {
            "tags": []
          },
          "execution_count": 29
        }
      ]
    },
    {
      "metadata": {
        "id": "bi-mHufC8Gio",
        "colab_type": "text"
      },
      "cell_type": "markdown",
      "source": [
        "# Calma POS and my greedy segmentation"
      ]
    },
    {
      "metadata": {
        "id": "VcL8x65A65XG",
        "colab_type": "code",
        "colab": {}
      },
      "cell_type": "code",
      "source": [
        "!wget https://www.dropbox.com/s/2rkq5cw0vnq52a9/calma_pos.nosys"
      ],
      "execution_count": 0,
      "outputs": []
    },
    {
      "metadata": {
        "id": "FZExKtIy8LtI",
        "colab_type": "code",
        "outputId": "d26cab1f-c8ae-492d-8f05-dfa8a825627c",
        "colab": {
          "base_uri": "https://localhost:8080/",
          "height": 207
        }
      },
      "cell_type": "code",
      "source": [
        "!head calma_pos.nosys"
      ],
      "execution_count": 0,
      "outputs": [
        {
          "output_type": "stream",
          "text": [
            "krc\tджыл\tcc\tNOUN\tTag1=Value1|Tag2=Value2\n",
            "krc\tджыл\tcc\tADJ\tTag1=Value1|Tag2=Value2\n",
            "krc\tэм\tcc\tNOUN\tTag1=Value1|Tag2=Value2\n",
            "krc\tэм\tcc\tVERB\tTag1=Value1|Tag2=Value2\n",
            "krc\tджылны\tcc\tNOUN\tTag1=Value1|Tag2=Value2\n",
            "krc\tболганды\tcc\tVERB\tTag1=Value1|Tag2=Value2\n",
            "krc\tдери\tcc\tNOUN\tTag1=Value1|Tag2=Value2\n",
            "krc\tкёре\tcc\tNOUN\tTag1=Value1|Tag2=Value2\n",
            "krc\tкёре\tcc\tVERB\tTag1=Value1|Tag2=Value2\n",
            "krc\tсора\tcc\tNOUN\tTag1=Value1|Tag2=Value2\n"
          ],
          "name": "stdout"
        }
      ]
    },
    {
      "metadata": {
        "id": "K81Adv_j8bw7",
        "colab_type": "code",
        "outputId": "53ffb5d7-234d-4c17-9f55-0c745299fab7",
        "colab": {
          "base_uri": "https://localhost:8080/",
          "height": 201
        }
      },
      "cell_type": "code",
      "source": [
        "import pandas as pd\n",
        "\n",
        "\n",
        "calma = pd.read_csv('calma_pos.nosys', sep='\\t', names=['iso', 'transliterated', 'lemma', 'POS', 'analysis'], index_col=False)\n",
        "calma.insert(1, 'wordform', calma['transliterated'])\n",
        "\n",
        "calma.head()"
      ],
      "execution_count": 0,
      "outputs": [
        {
          "output_type": "execute_result",
          "data": {
            "text/html": [
              "<div>\n",
              "<style scoped>\n",
              "    .dataframe tbody tr th:only-of-type {\n",
              "        vertical-align: middle;\n",
              "    }\n",
              "\n",
              "    .dataframe tbody tr th {\n",
              "        vertical-align: top;\n",
              "    }\n",
              "\n",
              "    .dataframe thead th {\n",
              "        text-align: right;\n",
              "    }\n",
              "</style>\n",
              "<table border=\"1\" class=\"dataframe\">\n",
              "  <thead>\n",
              "    <tr style=\"text-align: right;\">\n",
              "      <th></th>\n",
              "      <th>iso</th>\n",
              "      <th>wordform</th>\n",
              "      <th>transliterated</th>\n",
              "      <th>lemma</th>\n",
              "      <th>POS</th>\n",
              "      <th>analysis</th>\n",
              "    </tr>\n",
              "  </thead>\n",
              "  <tbody>\n",
              "    <tr>\n",
              "      <th>0</th>\n",
              "      <td>krc</td>\n",
              "      <td>джыл</td>\n",
              "      <td>джыл</td>\n",
              "      <td>cc</td>\n",
              "      <td>NOUN</td>\n",
              "      <td>Tag1=Value1|Tag2=Value2</td>\n",
              "    </tr>\n",
              "    <tr>\n",
              "      <th>1</th>\n",
              "      <td>krc</td>\n",
              "      <td>джыл</td>\n",
              "      <td>джыл</td>\n",
              "      <td>cc</td>\n",
              "      <td>ADJ</td>\n",
              "      <td>Tag1=Value1|Tag2=Value2</td>\n",
              "    </tr>\n",
              "    <tr>\n",
              "      <th>2</th>\n",
              "      <td>krc</td>\n",
              "      <td>эм</td>\n",
              "      <td>эм</td>\n",
              "      <td>cc</td>\n",
              "      <td>NOUN</td>\n",
              "      <td>Tag1=Value1|Tag2=Value2</td>\n",
              "    </tr>\n",
              "    <tr>\n",
              "      <th>3</th>\n",
              "      <td>krc</td>\n",
              "      <td>эм</td>\n",
              "      <td>эм</td>\n",
              "      <td>cc</td>\n",
              "      <td>VERB</td>\n",
              "      <td>Tag1=Value1|Tag2=Value2</td>\n",
              "    </tr>\n",
              "    <tr>\n",
              "      <th>4</th>\n",
              "      <td>krc</td>\n",
              "      <td>джылны</td>\n",
              "      <td>джылны</td>\n",
              "      <td>cc</td>\n",
              "      <td>NOUN</td>\n",
              "      <td>Tag1=Value1|Tag2=Value2</td>\n",
              "    </tr>\n",
              "  </tbody>\n",
              "</table>\n",
              "</div>"
            ],
            "text/plain": [
              "   iso wordform transliterated lemma   POS                 analysis\n",
              "0  krc     джыл           джыл    cc  NOUN  Tag1=Value1|Tag2=Value2\n",
              "1  krc     джыл           джыл    cc   ADJ  Tag1=Value1|Tag2=Value2\n",
              "2  krc       эм             эм    cc  NOUN  Tag1=Value1|Tag2=Value2\n",
              "3  krc       эм             эм    cc  VERB  Tag1=Value1|Tag2=Value2\n",
              "4  krc   джылны         джылны    cc  NOUN  Tag1=Value1|Tag2=Value2"
            ]
          },
          "metadata": {
            "tags": []
          },
          "execution_count": 32
        }
      ]
    },
    {
      "metadata": {
        "id": "_PG_5cR0-mj6",
        "colab_type": "code",
        "outputId": "e3e1bd18-264f-4479-a5e8-10cd484bae79",
        "colab": {
          "base_uri": "https://localhost:8080/",
          "height": 82
        }
      },
      "cell_type": "code",
      "source": [
        "# creating three calma pos clusters\n",
        "\n",
        "clusters, wordforms = list(calma.groupby(['POS']).groups.keys()), []\n",
        "\n",
        "for cluster in clusters:\n",
        "  wordforms.append(calma.loc[calma.groupby(['POS']).groups[cluster],\n",
        "                            'transliterated'].tolist())\n",
        "  \n",
        "calma_pos = dict(zip(clusters, wordforms))\n",
        "\n",
        "for cluster in calma_pos.keys():\n",
        "  print((cluster, len(calma_pos[cluster])))"
      ],
      "execution_count": 0,
      "outputs": [
        {
          "output_type": "stream",
          "text": [
            "('ADJ', 1042)\n",
            "('ADV', 105)\n",
            "('NOUN', 8818)\n",
            "('VERB', 2963)\n"
          ],
          "name": "stdout"
        }
      ]
    },
    {
      "metadata": {
        "id": "va9W1TUBAa50",
        "colab_type": "code",
        "outputId": "9c252cb9-f0a4-4c04-c162-ae071b4f1ac4",
        "colab": {
          "base_uri": "https://localhost:8080/",
          "height": 32
        }
      },
      "cell_type": "code",
      "source": [
        "# NOUN\n",
        "\n",
        "input_wfs_set = set()\n",
        "greed_nouns = {}\n",
        "\n",
        "for noun in calma_pos['NOUN']:\n",
        "  input_wfs_set.add(noun)\n",
        "  \n",
        "processed_wfs_set = set()\n",
        "result_n_data = {}\n",
        "for morpheme in sorted(noun_segment.keys(), key=lambda word: len(word), reverse=True):\n",
        "    processed_wfs_set = set()\n",
        "    for wf in input_wfs_set:\n",
        "        if wf.endswith(morpheme):\n",
        "\n",
        "            if wf != morpheme:\n",
        "                lemma = wf[:wf.rfind(morpheme)]\n",
        "            else:\n",
        "                lemma = \"NONE\"\n",
        "\n",
        "            result_n_data[wf] = [lemma] + ['NOUN'] + list(noun_segment[morpheme])\n",
        "            processed_wfs_set.add(wf)\n",
        "    input_wfs_set -= processed_wfs_set\n",
        "\n",
        "    \n",
        "for morpheme, inflected_data in result_n_data.items():\n",
        "    lemma = inflected_data[0]\n",
        "    pos = inflected_data[1]\n",
        "    analysis = sorted(inflected_data[2:])\n",
        "    greed_nouns[morpheme] = [lemma, pos, '|'.join(analysis)]\n",
        "    \n",
        "for wf in input_wfs_set:\n",
        "    greed_nouns[wf] = [wf, 'NOUN', \"Case=Nom\"]\n",
        "                           \n",
        "len(list(greed_nouns.keys()))"
      ],
      "execution_count": 0,
      "outputs": [
        {
          "output_type": "execute_result",
          "data": {
            "text/plain": [
              "7732"
            ]
          },
          "metadata": {
            "tags": []
          },
          "execution_count": 58
        }
      ]
    },
    {
      "metadata": {
        "id": "Y_TEiPzVsxru",
        "colab_type": "code",
        "outputId": "08440303-58ae-4bcf-a7fd-eaffcd9abac3",
        "colab": {
          "base_uri": "https://localhost:8080/",
          "height": 148
        }
      },
      "cell_type": "code",
      "source": [
        "list(greed_nouns.items())[:2]"
      ],
      "execution_count": 0,
      "outputs": [
        {
          "output_type": "execute_result",
          "data": {
            "text/plain": [
              "[('орунларындан',\n",
              "  ['орун',\n",
              "   'NOUN',\n",
              "   'Case=Abl|Number=Plur|Number[psor]=Sing,Plur|Person[psor]=3']),\n",
              " ('чурумларындан',\n",
              "  ['чурум',\n",
              "   'NOUN',\n",
              "   'Case=Abl|Number=Plur|Number[psor]=Sing,Plur|Person[psor]=3'])]"
            ]
          },
          "metadata": {
            "tags": []
          },
          "execution_count": 59
        }
      ]
    },
    {
      "metadata": {
        "id": "e9U1AO67USgg",
        "colab_type": "code",
        "outputId": "7b20ae72-a7d9-4aa7-b402-1b50aa398234",
        "colab": {
          "base_uri": "https://localhost:8080/",
          "height": 32
        }
      },
      "cell_type": "code",
      "source": [
        "# VERB\n",
        "\n",
        "input_wfs_set = set()\n",
        "greed_verbs = {}\n",
        "\n",
        "for verb in calma_pos['VERB']:\n",
        "  input_wfs_set.add(verb)\n",
        "\n",
        "processed_wfs_set = set()\n",
        "result_v_data = {}\n",
        "for morpheme in sorted(verb_segment.keys(), key=lambda word: len(word), reverse=True):\n",
        "    processed_wfs_set = set()\n",
        "    for wf in input_wfs_set:\n",
        "        if wf.endswith(morpheme):\n",
        "\n",
        "            if wf != morpheme:\n",
        "                lemma = wf[:wf.rfind(morpheme)]\n",
        "            else:\n",
        "                lemma = \"NONE\"\n",
        "\n",
        "            result_v_data[wf] = [lemma] + ['VERB'] + list(verb_segment[morpheme])\n",
        "            processed_wfs_set.add(wf)\n",
        "    input_wfs_set -= processed_wfs_set\n",
        "\n",
        "    \n",
        "for morpheme, inflected_data in result_v_data.items():\n",
        "    lemma = inflected_data[0]\n",
        "    pos = inflected_data[1]\n",
        "    analysis = sorted(inflected_data[2:])\n",
        "    greed_verbs[morpheme] = [lemma, pos, '|'.join(analysis)]\n",
        "    \n",
        "for wf in input_wfs_set:\n",
        "    greed_verbs[wf] = ['bad_verb', 'bad_verb', 'bad_verb']\n",
        "                           \n",
        "len(list(greed_verbs.keys()))"
      ],
      "execution_count": 0,
      "outputs": [
        {
          "output_type": "execute_result",
          "data": {
            "text/plain": [
              "2709"
            ]
          },
          "metadata": {
            "tags": []
          },
          "execution_count": 73
        }
      ]
    },
    {
      "metadata": {
        "id": "uoLYdNz7W7Sa",
        "colab_type": "code",
        "outputId": "728b3699-8ca6-49f6-df1f-01899562d31b",
        "colab": {
          "base_uri": "https://localhost:8080/",
          "height": 148
        }
      },
      "cell_type": "code",
      "source": [
        "list(greed_verbs.items())[:2]"
      ],
      "execution_count": 0,
      "outputs": [
        {
          "output_type": "execute_result",
          "data": {
            "text/plain": [
              "[('сыйырылган',\n",
              "  ['сыйыр',\n",
              "   'VERB',\n",
              "   'Number=Sing|Person=3|Tense=Past|Valency=2|VerbForm=Fin|Voice=Pass']),\n",
              " ('чыгарылган',\n",
              "  ['чыгар',\n",
              "   'VERB',\n",
              "   'Number=Sing|Person=3|Tense=Past|Valency=2|VerbForm=Fin|Voice=Pass'])]"
            ]
          },
          "metadata": {
            "tags": []
          },
          "execution_count": 74
        }
      ]
    },
    {
      "metadata": {
        "id": "yD4mMejwrkb0",
        "colab_type": "code",
        "colab": {}
      },
      "cell_type": "code",
      "source": [
        "!wget https://www.dropbox.com/s/roqm9n2ow9lfzh6/tmp.txt"
      ],
      "execution_count": 0,
      "outputs": []
    },
    {
      "metadata": {
        "id": "A_jfiVVLwzTr",
        "colab_type": "code",
        "outputId": "5ed03050-313e-4068-bc0b-746b2408412d",
        "colab": {
          "base_uri": "https://localhost:8080/",
          "height": 267
        }
      },
      "cell_type": "code",
      "source": [
        "!head tmp.txt"
      ],
      "execution_count": 0,
      "outputs": [
        {
          "output_type": "stream",
          "text": [
            "krc\tэм\tэм\tNOUN\tCase=Nom\n",
            "krc\tболганды\tбол\tVERB\tAspect=Perf|Number=Sing|Person=3|Tense=Past|Valency=1|VerbForm=Fin\n",
            "krc\tболганды\tболган\tNOUN\tCase=Acc\n",
            "krc\tболганды\tболганды\tADJ\t_\n",
            "krc\tкёре\tкёр\tVERB\tAspect=Imp|Valency=2|VerbForm=Conv\n",
            "krc\tкёре\tкёре\tADJ\t_\n",
            "krc\tкёре\tкёре\tNOUN\tCase=Nom\n",
            "krc\tболады\tбол\tVERB\tNumber=Plur|Person=3|Tense=Aor|Valency=1|VerbForm=Fin\n",
            "krc\tболады\tбол\tVERB\tNumber=Sing|Person=3|Tense=Aor|Valency=1|VerbForm=Fin\n",
            "krc\tболады\tбол\tVERB\tNumber=Sing|Person=3|Tense=Aor|Valency=2|VerbForm=Fin\n"
          ],
          "name": "stdout"
        }
      ]
    },
    {
      "metadata": {
        "id": "XniyMbDRmv5F",
        "colab_type": "code",
        "colab": {}
      },
      "cell_type": "code",
      "source": [
        "my_calma = []\n",
        "\n",
        "unique_nouns, unique_verbs  = set(greed_nouns.keys()), set(greed_verbs.keys())\n",
        "unique_advs, unique_adjs = set(calma_pos['ADV']), set(calma_pos['ADJ'])\n",
        "\n",
        "    \n",
        "with open('calma_pos.nosys', 'r') as f:\n",
        "  for line in f:\n",
        "    iso, wf, lemma, pos, analysis = line.strip().split('\\t')\n",
        "    if wf in unique_nouns and pos == greed_nouns[wf][1]:\n",
        "      lemma = greed_nouns[wf][0]\n",
        "      analysis = greed_nouns[wf][2]\n",
        "    else:\n",
        "      lemma = 'bad_noun'\n",
        "      analysis = 'bad_noun'\n",
        "      if wf in unique_verbs and pos == greed_verbs[wf][1]:\n",
        "        lemma = greed_verbs[wf][0]\n",
        "        analysis = greed_verbs[wf][2]\n",
        "      else:\n",
        "        lemma = 'bad_verb'\n",
        "        analysis = 'bad_verb'\n",
        "        if wf in unique_advs and pos == 'ADV':\n",
        "          lemma = wf\n",
        "          analysis = '_'\n",
        "        elif wf in unique_adjs and pos == 'ADJ':\n",
        "          lemma = wf\n",
        "          analysis = '_'\n",
        "    my_calma.append((iso, wf, lemma, pos, analysis))"
      ],
      "execution_count": 0,
      "outputs": []
    },
    {
      "metadata": {
        "id": "BbD7VA4W3JcU",
        "colab_type": "code",
        "colab": {}
      },
      "cell_type": "code",
      "source": [
        "calma_list = []\n",
        "\n",
        "unique_nouns, unique_verbs  = set(greed_nouns.keys()), set(greed_verbs.keys())\n",
        "unique_advs, unique_adjs = set(calma_pos['ADV']), set(calma_pos['ADJ'])\n",
        "\n",
        "\n",
        "with open('calma_pos.nosys', 'r') as f:\n",
        "  for line in f:\n",
        "    iso, wf, lemma, pos, analysis = line.strip().split('\\t')\n",
        "    if wf == 'ырдайт':\n",
        "      print(wf)\n",
        "    if wf in unique_nouns and pos == greed_nouns[wf][1]:\n",
        "      lemma = greed_nouns[wf][0]\n",
        "      analysis = greed_nouns[wf][2]\n",
        "    else:\n",
        "      lemma = 'bad_noun'\n",
        "      analysis = 'bad_noun'\n",
        "      if wf in unique_verbs and pos == greed_verbs[wf][1]:\n",
        "        lemma = greed_verbs[wf][0]\n",
        "        analysis = greed_verbs[wf][2]\n",
        "      else:\n",
        "        lemma = 'bad_verb'\n",
        "        analysis = 'bad_verb'\n",
        "        if wf in unique_advs and pos == 'ADV':\n",
        "          lemma = wf\n",
        "          analysis = '_'\n",
        "        elif wf in unique_adjs and pos == 'ADJ':\n",
        "          lemma = wf\n",
        "          analysis = '_'\n",
        "    results=[]\n",
        "    \n",
        "    if wf in trk_intersection.keys() and wf in krc_words:\n",
        "      for trk_value in trk_intersection[wf]:\n",
        "        if pos == trk_value[1]:\n",
        "          results.append((trk_value[0], trk_value[2]))\n",
        "    if len(results) == 0:\n",
        "      results.append((lemma, analysis))\n",
        "    for result in results:\n",
        "      calma_list.append((iso, wf, result[0], pos, result[1]))"
      ],
      "execution_count": 0,
      "outputs": []
    },
    {
      "metadata": {
        "id": "n3y-Fzk-4kYA",
        "colab_type": "code",
        "outputId": "bd4f0e6b-497d-467b-bb04-08616ad33876",
        "colab": {
          "base_uri": "https://localhost:8080/",
          "height": 32
        }
      },
      "cell_type": "code",
      "source": [
        "len(calma_list)"
      ],
      "execution_count": 0,
      "outputs": [
        {
          "output_type": "execute_result",
          "data": {
            "text/plain": [
              "13642"
            ]
          },
          "metadata": {
            "tags": []
          },
          "execution_count": 155
        }
      ]
    },
    {
      "metadata": {
        "id": "4GnJoq8Qxx9j",
        "colab_type": "code",
        "colab": {}
      },
      "cell_type": "code",
      "source": [
        "calm = pd.DataFrame(calma_list, columns=['iso', 'wf', 'lemma', 'pos', 'tags'])"
      ],
      "execution_count": 0,
      "outputs": []
    },
    {
      "metadata": {
        "id": "VPEoQyOoOtrU",
        "colab_type": "code",
        "outputId": "5ac19652-084e-431f-eb1c-70d36d72c8d9",
        "colab": {
          "base_uri": "https://localhost:8080/",
          "height": 201
        }
      },
      "cell_type": "code",
      "source": [
        "calm.head()"
      ],
      "execution_count": 0,
      "outputs": [
        {
          "output_type": "execute_result",
          "data": {
            "text/html": [
              "<div>\n",
              "<style scoped>\n",
              "    .dataframe tbody tr th:only-of-type {\n",
              "        vertical-align: middle;\n",
              "    }\n",
              "\n",
              "    .dataframe tbody tr th {\n",
              "        vertical-align: top;\n",
              "    }\n",
              "\n",
              "    .dataframe thead th {\n",
              "        text-align: right;\n",
              "    }\n",
              "</style>\n",
              "<table border=\"1\" class=\"dataframe\">\n",
              "  <thead>\n",
              "    <tr style=\"text-align: right;\">\n",
              "      <th></th>\n",
              "      <th>iso</th>\n",
              "      <th>wf</th>\n",
              "      <th>lemma</th>\n",
              "      <th>pos</th>\n",
              "      <th>tags</th>\n",
              "    </tr>\n",
              "  </thead>\n",
              "  <tbody>\n",
              "    <tr>\n",
              "      <th>0</th>\n",
              "      <td>krc</td>\n",
              "      <td>джыл</td>\n",
              "      <td>джыл</td>\n",
              "      <td>NOUN</td>\n",
              "      <td>Case=Nom</td>\n",
              "    </tr>\n",
              "    <tr>\n",
              "      <th>1</th>\n",
              "      <td>krc</td>\n",
              "      <td>джыл</td>\n",
              "      <td>джыл</td>\n",
              "      <td>ADJ</td>\n",
              "      <td>_</td>\n",
              "    </tr>\n",
              "    <tr>\n",
              "      <th>2</th>\n",
              "      <td>krc</td>\n",
              "      <td>эм</td>\n",
              "      <td>эм</td>\n",
              "      <td>NOUN</td>\n",
              "      <td>Case=Nom</td>\n",
              "    </tr>\n",
              "    <tr>\n",
              "      <th>3</th>\n",
              "      <td>krc</td>\n",
              "      <td>эм</td>\n",
              "      <td>bad_verb</td>\n",
              "      <td>VERB</td>\n",
              "      <td>bad_verb</td>\n",
              "    </tr>\n",
              "    <tr>\n",
              "      <th>4</th>\n",
              "      <td>krc</td>\n",
              "      <td>джылны</td>\n",
              "      <td>джыл</td>\n",
              "      <td>NOUN</td>\n",
              "      <td>Case=Acc</td>\n",
              "    </tr>\n",
              "  </tbody>\n",
              "</table>\n",
              "</div>"
            ],
            "text/plain": [
              "   iso      wf     lemma   pos      tags\n",
              "0  krc    джыл      джыл  NOUN  Case=Nom\n",
              "1  krc    джыл      джыл   ADJ         _\n",
              "2  krc      эм        эм  NOUN  Case=Nom\n",
              "3  krc      эм  bad_verb  VERB  bad_verb\n",
              "4  krc  джылны      джыл  NOUN  Case=Acc"
            ]
          },
          "metadata": {
            "tags": []
          },
          "execution_count": 157
        }
      ]
    },
    {
      "metadata": {
        "id": "ednjYlU0iXpw",
        "colab_type": "code",
        "outputId": "2d967d11-aad3-48f8-b38c-b0d7284dff03",
        "colab": {
          "base_uri": "https://localhost:8080/",
          "height": 115
        }
      },
      "cell_type": "code",
      "source": [
        "calm.tags.value_counts()[:5]"
      ],
      "execution_count": 0,
      "outputs": [
        {
          "output_type": "execute_result",
          "data": {
            "text/plain": [
              "Case=Nom                                          3014\n",
              "bad_verb                                          1718\n",
              "Case=Acc                                          1554\n",
              "Case=Nom|Number[psor]=Sing,Plur|Person[psor]=3    1146\n",
              "_                                                 1145\n",
              "Name: tags, dtype: int64"
            ]
          },
          "metadata": {
            "tags": []
          },
          "execution_count": 158
        }
      ]
    },
    {
      "metadata": {
        "id": "gCLuVn1Yysdq",
        "colab_type": "code",
        "outputId": "b638c509-a8b4-493f-d136-beb673395a9e",
        "colab": {
          "base_uri": "https://localhost:8080/",
          "height": 201
        }
      },
      "cell_type": "code",
      "source": [
        "tmp = pd.read_csv('tmp.txt', sep='\\t', names=['iso', 'wf', 'lemma', 'pos', 'tags'])\n",
        "tmp.head()"
      ],
      "execution_count": 0,
      "outputs": [
        {
          "output_type": "execute_result",
          "data": {
            "text/html": [
              "<div>\n",
              "<style scoped>\n",
              "    .dataframe tbody tr th:only-of-type {\n",
              "        vertical-align: middle;\n",
              "    }\n",
              "\n",
              "    .dataframe tbody tr th {\n",
              "        vertical-align: top;\n",
              "    }\n",
              "\n",
              "    .dataframe thead th {\n",
              "        text-align: right;\n",
              "    }\n",
              "</style>\n",
              "<table border=\"1\" class=\"dataframe\">\n",
              "  <thead>\n",
              "    <tr style=\"text-align: right;\">\n",
              "      <th></th>\n",
              "      <th>iso</th>\n",
              "      <th>wf</th>\n",
              "      <th>lemma</th>\n",
              "      <th>pos</th>\n",
              "      <th>tags</th>\n",
              "    </tr>\n",
              "  </thead>\n",
              "  <tbody>\n",
              "    <tr>\n",
              "      <th>0</th>\n",
              "      <td>krc</td>\n",
              "      <td>эм</td>\n",
              "      <td>эм</td>\n",
              "      <td>NOUN</td>\n",
              "      <td>Case=Nom</td>\n",
              "    </tr>\n",
              "    <tr>\n",
              "      <th>1</th>\n",
              "      <td>krc</td>\n",
              "      <td>болганды</td>\n",
              "      <td>бол</td>\n",
              "      <td>VERB</td>\n",
              "      <td>Aspect=Perf|Number=Sing|Person=3|Tense=Past|Va...</td>\n",
              "    </tr>\n",
              "    <tr>\n",
              "      <th>2</th>\n",
              "      <td>krc</td>\n",
              "      <td>болганды</td>\n",
              "      <td>болган</td>\n",
              "      <td>NOUN</td>\n",
              "      <td>Case=Acc</td>\n",
              "    </tr>\n",
              "    <tr>\n",
              "      <th>3</th>\n",
              "      <td>krc</td>\n",
              "      <td>болганды</td>\n",
              "      <td>болганды</td>\n",
              "      <td>ADJ</td>\n",
              "      <td>_</td>\n",
              "    </tr>\n",
              "    <tr>\n",
              "      <th>4</th>\n",
              "      <td>krc</td>\n",
              "      <td>кёре</td>\n",
              "      <td>кёр</td>\n",
              "      <td>VERB</td>\n",
              "      <td>Aspect=Imp|Valency=2|VerbForm=Conv</td>\n",
              "    </tr>\n",
              "  </tbody>\n",
              "</table>\n",
              "</div>"
            ],
            "text/plain": [
              "   iso        wf     lemma   pos  \\\n",
              "0  krc        эм        эм  NOUN   \n",
              "1  krc  болганды       бол  VERB   \n",
              "2  krc  болганды    болган  NOUN   \n",
              "3  krc  болганды  болганды   ADJ   \n",
              "4  krc      кёре       кёр  VERB   \n",
              "\n",
              "                                                tags  \n",
              "0                                           Case=Nom  \n",
              "1  Aspect=Perf|Number=Sing|Person=3|Tense=Past|Va...  \n",
              "2                                           Case=Acc  \n",
              "3                                                  _  \n",
              "4                 Aspect=Imp|Valency=2|VerbForm=Conv  "
            ]
          },
          "metadata": {
            "tags": []
          },
          "execution_count": 159
        }
      ]
    },
    {
      "metadata": {
        "id": "SKT6JM9Fzp3O",
        "colab_type": "code",
        "outputId": "ec1cc2aa-13c4-48c5-bfd7-95d787c87344",
        "colab": {
          "base_uri": "https://localhost:8080/",
          "height": 115
        }
      },
      "cell_type": "code",
      "source": [
        "calm = calm[calm.tags != 'bad_verb']\n",
        "calm.tags.value_counts()[:5]"
      ],
      "execution_count": 0,
      "outputs": [
        {
          "output_type": "execute_result",
          "data": {
            "text/plain": [
              "Case=Nom                                          3014\n",
              "Case=Acc                                          1554\n",
              "Case=Nom|Number[psor]=Sing,Plur|Person[psor]=3    1146\n",
              "_                                                 1145\n",
              "Case=Loc                                           930\n",
              "Name: tags, dtype: int64"
            ]
          },
          "metadata": {
            "tags": []
          },
          "execution_count": 160
        }
      ]
    },
    {
      "metadata": {
        "id": "jFx5A5P-27Zb",
        "colab_type": "code",
        "outputId": "f113a9d9-2c51-4db3-e3bb-db6b1a4a1c10",
        "colab": {
          "base_uri": "https://localhost:8080/",
          "height": 115
        }
      },
      "cell_type": "code",
      "source": [
        "my_model_predictions = pd.concat([calm, tmp])\n",
        "my_model_predictions.tags.value_counts()[:5]"
      ],
      "execution_count": 0,
      "outputs": [
        {
          "output_type": "execute_result",
          "data": {
            "text/plain": [
              "Case=Nom                                          3536\n",
              "Case=Acc                                          1788\n",
              "_                                                 1307\n",
              "Case=Nom|Number[psor]=Sing,Plur|Person[psor]=3    1255\n",
              "Case=Loc                                          1199\n",
              "Name: tags, dtype: int64"
            ]
          },
          "metadata": {
            "tags": []
          },
          "execution_count": 161
        }
      ]
    },
    {
      "metadata": {
        "id": "RLxvQ4TW5ZlF",
        "colab_type": "code",
        "outputId": "2752c3e8-5870-409c-e5d7-4f8d3ee98f33",
        "colab": {
          "base_uri": "https://localhost:8080/",
          "height": 201
        }
      },
      "cell_type": "code",
      "source": [
        "my_model_predictions.head()"
      ],
      "execution_count": 0,
      "outputs": [
        {
          "output_type": "execute_result",
          "data": {
            "text/html": [
              "<div>\n",
              "<style scoped>\n",
              "    .dataframe tbody tr th:only-of-type {\n",
              "        vertical-align: middle;\n",
              "    }\n",
              "\n",
              "    .dataframe tbody tr th {\n",
              "        vertical-align: top;\n",
              "    }\n",
              "\n",
              "    .dataframe thead th {\n",
              "        text-align: right;\n",
              "    }\n",
              "</style>\n",
              "<table border=\"1\" class=\"dataframe\">\n",
              "  <thead>\n",
              "    <tr style=\"text-align: right;\">\n",
              "      <th></th>\n",
              "      <th>iso</th>\n",
              "      <th>wf</th>\n",
              "      <th>lemma</th>\n",
              "      <th>pos</th>\n",
              "      <th>tags</th>\n",
              "    </tr>\n",
              "  </thead>\n",
              "  <tbody>\n",
              "    <tr>\n",
              "      <th>0</th>\n",
              "      <td>krc</td>\n",
              "      <td>джыл</td>\n",
              "      <td>джыл</td>\n",
              "      <td>NOUN</td>\n",
              "      <td>Case=Nom</td>\n",
              "    </tr>\n",
              "    <tr>\n",
              "      <th>1</th>\n",
              "      <td>krc</td>\n",
              "      <td>джыл</td>\n",
              "      <td>джыл</td>\n",
              "      <td>ADJ</td>\n",
              "      <td>_</td>\n",
              "    </tr>\n",
              "    <tr>\n",
              "      <th>2</th>\n",
              "      <td>krc</td>\n",
              "      <td>эм</td>\n",
              "      <td>эм</td>\n",
              "      <td>NOUN</td>\n",
              "      <td>Case=Nom</td>\n",
              "    </tr>\n",
              "    <tr>\n",
              "      <th>4</th>\n",
              "      <td>krc</td>\n",
              "      <td>джылны</td>\n",
              "      <td>джыл</td>\n",
              "      <td>NOUN</td>\n",
              "      <td>Case=Acc</td>\n",
              "    </tr>\n",
              "    <tr>\n",
              "      <th>6</th>\n",
              "      <td>krc</td>\n",
              "      <td>дери</td>\n",
              "      <td>дер</td>\n",
              "      <td>NOUN</td>\n",
              "      <td>Case=Nom|Number[psor]=Sing,Plur|Person[psor]=3</td>\n",
              "    </tr>\n",
              "  </tbody>\n",
              "</table>\n",
              "</div>"
            ],
            "text/plain": [
              "   iso      wf lemma   pos                                            tags\n",
              "0  krc    джыл  джыл  NOUN                                        Case=Nom\n",
              "1  krc    джыл  джыл   ADJ                                               _\n",
              "2  krc      эм    эм  NOUN                                        Case=Nom\n",
              "4  krc  джылны  джыл  NOUN                                        Case=Acc\n",
              "6  krc    дери   дер  NOUN  Case=Nom|Number[psor]=Sing,Plur|Person[psor]=3"
            ]
          },
          "metadata": {
            "tags": []
          },
          "execution_count": 162
        }
      ]
    },
    {
      "metadata": {
        "id": "QKA0sgiO6V_1",
        "colab_type": "code",
        "colab": {}
      },
      "cell_type": "code",
      "source": [
        "my_model_predictions.to_csv('spectie.txt', sep='\\t', header=False, index=False, encoding='utf-8')\n",
        "files.download('spectie.txt')"
      ],
      "execution_count": 0,
      "outputs": []
    },
    {
      "metadata": {
        "id": "fr4SyxJtyQYw",
        "colab_type": "code",
        "colab": {}
      },
      "cell_type": "code",
      "source": [
        "krc_transliteration = dict(zip(krc_words, [line.strip().split('\\t')[1] for line in open('trk-covered', 'r')]))"
      ],
      "execution_count": 0,
      "outputs": []
    },
    {
      "metadata": {
        "id": "e7hvgumF5mG3",
        "colab_type": "code",
        "colab": {}
      },
      "cell_type": "code",
      "source": [
        "for non_tr in krc_transliteration.keys():\n",
        "  my_model_predictions['wf'] = my_model_predictions.wf.str.replace(non_tr, krc_transliteration[non_tr])\n"
      ],
      "execution_count": 0,
      "outputs": []
    },
    {
      "metadata": {
        "id": "pfY2UPwJ9uX1",
        "colab_type": "code",
        "colab": {}
      },
      "cell_type": "code",
      "source": [
        "import re\n",
        "\n",
        "\n",
        "def clean(text):\n",
        "  text = re.sub('ъ+', 'ъ', text)\n",
        "  return text\n",
        "  \n",
        "my_model_predictions['wf'] = my_model_predictions['wf'].apply(clean)"
      ],
      "execution_count": 0,
      "outputs": []
    },
    {
      "metadata": {
        "id": "3l3yWD_0CWG1",
        "colab_type": "code",
        "colab": {}
      },
      "cell_type": "code",
      "source": [
        "def end_word(word):\n",
        "  word = re.sub('гъ$', 'къ', word)\n",
        "  word = re.sub('къ$', 'къ', word)\n",
        "  return word"
      ],
      "execution_count": 0,
      "outputs": []
    },
    {
      "metadata": {
        "id": "ZojDD-v7Fuod",
        "colab_type": "code",
        "outputId": "cbdc13e9-56bd-4f4c-ebe1-d2cbd3c8e6b5",
        "colab": {
          "base_uri": "https://localhost:8080/",
          "height": 32
        }
      },
      "cell_type": "code",
      "source": [
        "end_word('агъымлаг')"
      ],
      "execution_count": 0,
      "outputs": [
        {
          "output_type": "execute_result",
          "data": {
            "text/plain": [
              "'агъымлаг'"
            ]
          },
          "metadata": {
            "tags": []
          },
          "execution_count": 188
        }
      ]
    }
  ]
}